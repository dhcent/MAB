{
 "nbformat": 4,
 "nbformat_minor": 0,
 "metadata": {
  "colab": {
   "provenance": []
  },
  "kernelspec": {
   "name": "python3",
   "display_name": "Python 3 (ipykernel)",
   "language": "python"
  },
  "language_info": {
   "name": "python"
  }
 },
 "cells": [
  {
   "cell_type": "markdown",
   "source": [
    "First, import all the libraries (from other folders)"
   ],
   "metadata": {
    "id": "lL_HJ9sWZXlJ"
   }
  },
  {
   "cell_type": "code",
   "source": [
    "#algorithm imports\n",
    "from Algorithms import *\n",
    "\n",
    "#arm imports\n",
    "from Arms import *\n",
    "\n",
    "#plot imports\n",
    "from Plots import *\n",
    "\n",
    "import numpy as np\n",
    "import random as rand\n",
    "import matplotlib.pyplot as plt"
   ],
   "metadata": {
    "id": "PTSOjcVLZaTh",
    "ExecuteTime": {
     "end_time": "2025-08-13T18:09:06.484124Z",
     "start_time": "2025-08-13T18:09:06.467923Z"
    }
   },
   "outputs": [],
   "execution_count": 32
  },
  {
   "cell_type": "markdown",
   "source": [
    "Next, we want to define the function to run the algorithm. This function takes in a specified algorithm as well as a time horizon."
   ],
   "metadata": {
    "id": "2fTNgmWDZfD_"
   }
  },
  {
   "cell_type": "code",
   "source": [
    "# horizon is total # of steps\n",
    "def run_algorithm(algorithm, horizon, arms, epoch):\n",
    "    total_reward = 0\n",
    "    oracle_total_reward = 0\n",
    "    oracle = Oracle(arms)\n",
    "    # create a matrix of nxm\n",
    "    # n - # of arms\n",
    "    # m - # of steps (measures each mean at each step, used for plotting later)\n",
    "    mean_history = [[] for i in range(len(arms))]\n",
    "    regret_history = []\n",
    "\n",
    "    for t in range (horizon):\n",
    "        # ONLY FOR BROWNIAN ARMS\n",
    "        if t != 0 and t % epoch == 0:\n",
    "            print(f\"Algorithm: {algorithm.select_arm()}\")\n",
    "            print(f\"Oracle: {oracle.select_arm()}\")\n",
    "            algorithm.reinitialize(n_arms=len(arms))\n",
    "            print(\"Reinitialized!\")\n",
    "\n",
    "        for arm in arms:\n",
    "            arm.simulate_brownian()\n",
    "        #chosen arm is index\n",
    "        chosen_arm = algorithm.select_arm()\n",
    "        reward = arms[chosen_arm].draw()\n",
    "        total_reward += reward\n",
    "\n",
    "        #oracle action\n",
    "        oracle_chosen_arm = oracle.select_arm()\n",
    "        oracle_reward = arms[oracle_chosen_arm].draw()\n",
    "        oracle_total_reward += oracle_reward\n",
    "        algorithm.update(chosen_arm, reward)\n",
    "\n",
    "        #used for plotting regret\n",
    "        if t == 0:\n",
    "            regret_history.append(oracle_reward - reward)\n",
    "        else:\n",
    "            regret_history.append(oracle_reward - reward + regret_history[t - 1])\n",
    "\n",
    "        #used for plotting arm means\n",
    "        for i in range(len(arms)):\n",
    "            mean_history[i].append(arms[i].mean)\n",
    "    #plot regret vs log rounds\n",
    "    plot_regret_log_t(regret_history)\n",
    "    plot_arm_means(mean_history)\n"
   ],
   "metadata": {
    "id": "gHP8EYlHZlgW",
    "ExecuteTime": {
     "end_time": "2025-08-13T18:09:13.485825Z",
     "start_time": "2025-08-13T18:09:13.477505Z"
    }
   },
   "outputs": [],
   "execution_count": 34
  },
  {
   "cell_type": "markdown",
   "source": "Now, we define a list of arms. These are the arms are algorithm will pick from. We also will generate the arms depending on the type (can be changed so that they are not all the same type).",
   "metadata": {
    "id": "kOdY2_EtZxse"
   }
  },
  {
   "cell_type": "code",
   "source": [
    "#horizon is # of steps or rounds that alg will run\n",
    "arms = []\n",
    "#n - num of arms\n",
    "n = 5\n",
    "#generate each arm based on Arm Type and n # of arms\n",
    "\n",
    "expected_vals = [rand.random() for i in range(n)]\n",
    "std_dev = 0.1\n",
    "drift = 0\n",
    "volatility = 0.01\n",
    "for val in expected_vals:\n",
    "    arms.append(BrownianArm(val, std_dev, drift, volatility))\n"
   ],
   "metadata": {
    "id": "SlyN8YPfZ7y0",
    "ExecuteTime": {
     "end_time": "2025-08-13T18:09:18.595866Z",
     "start_time": "2025-08-13T18:09:18.586883Z"
    }
   },
   "outputs": [],
   "execution_count": 35
  },
  {
   "cell_type": "markdown",
   "source": [
    "Something to note is that for certain algorithms, (for example, epsilon greedy), you need to define different paramters. For all algorithms, you need to define the number of arms (n)"
   ],
   "metadata": {
    "id": "LDiX8m0TZ_c2"
   }
  },
  {
   "metadata": {
    "ExecuteTime": {
     "end_time": "2025-08-13T18:09:53.754669Z",
     "start_time": "2025-08-13T18:09:53.695036Z"
    }
   },
   "cell_type": "code",
   "source": [
    "eps = 0.01\n",
    "horizon = 5000\n",
    "#Algorithms\n",
    "eps_algo = EpsilonGreedy(eps, n_arms = len(arms))\n",
    "#UCB_algo = UCB1(n_arms = len(arms))\n",
    "run_algorithm(eps_algo, horizon, arms, epoch=50)"
   ],
   "outputs": [
    {
     "ename": "TypeError",
     "evalue": "'module' object is not callable",
     "output_type": "error",
     "traceback": [
      "\u001B[1;31m---------------------------------------------------------------------------\u001B[0m",
      "\u001B[1;31mTypeError\u001B[0m                                 Traceback (most recent call last)",
      "Cell \u001B[1;32mIn[38], line 6\u001B[0m\n\u001B[0;32m      4\u001B[0m eps_algo \u001B[38;5;241m=\u001B[39m EpsilonGreedy(eps, n_arms \u001B[38;5;241m=\u001B[39m \u001B[38;5;28mlen\u001B[39m(arms))\n\u001B[0;32m      5\u001B[0m \u001B[38;5;66;03m#UCB_algo = UCB1(n_arms = len(arms))\u001B[39;00m\n\u001B[1;32m----> 6\u001B[0m \u001B[43mrun_algorithm\u001B[49m\u001B[43m(\u001B[49m\u001B[43meps_algo\u001B[49m\u001B[43m,\u001B[49m\u001B[43m \u001B[49m\u001B[43mhorizon\u001B[49m\u001B[43m,\u001B[49m\u001B[43m \u001B[49m\u001B[43marms\u001B[49m\u001B[43m,\u001B[49m\u001B[43m \u001B[49m\u001B[43mepoch\u001B[49m\u001B[38;5;241;43m=\u001B[39;49m\u001B[38;5;241;43m50\u001B[39;49m\u001B[43m)\u001B[49m\n",
      "Cell \u001B[1;32mIn[34], line 5\u001B[0m, in \u001B[0;36mrun_algorithm\u001B[1;34m(algorithm, horizon, arms, epoch)\u001B[0m\n\u001B[0;32m      3\u001B[0m total_reward \u001B[38;5;241m=\u001B[39m \u001B[38;5;241m0\u001B[39m\n\u001B[0;32m      4\u001B[0m oracle_total_reward \u001B[38;5;241m=\u001B[39m \u001B[38;5;241m0\u001B[39m\n\u001B[1;32m----> 5\u001B[0m oracle \u001B[38;5;241m=\u001B[39m \u001B[43mOracle\u001B[49m\u001B[43m(\u001B[49m\u001B[43marms\u001B[49m\u001B[43m)\u001B[49m\n\u001B[0;32m      6\u001B[0m \u001B[38;5;66;03m# create a matrix of nxm\u001B[39;00m\n\u001B[0;32m      7\u001B[0m \u001B[38;5;66;03m# n - # of arms\u001B[39;00m\n\u001B[0;32m      8\u001B[0m \u001B[38;5;66;03m# m - # of steps (measures each mean at each step, used for plotting later)\u001B[39;00m\n\u001B[0;32m      9\u001B[0m mean_history \u001B[38;5;241m=\u001B[39m [[] \u001B[38;5;28;01mfor\u001B[39;00m i \u001B[38;5;129;01min\u001B[39;00m \u001B[38;5;28mrange\u001B[39m(\u001B[38;5;28mlen\u001B[39m(arms))]\n",
      "\u001B[1;31mTypeError\u001B[0m: 'module' object is not callable"
     ]
    }
   ],
   "execution_count": 38
  },
  {
   "metadata": {},
   "cell_type": "code",
   "outputs": [],
   "execution_count": null,
   "source": ""
  }
 ]
}
