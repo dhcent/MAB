{
  "nbformat": 4,
  "nbformat_minor": 0,
  "metadata": {
    "colab": {
      "provenance": [],
      "include_colab_link": true
    },
    "kernelspec": {
      "name": "python3",
      "display_name": "Python 3"
    },
    "language_info": {
      "name": "python"
    }
  },
  "cells": [
    {
      "cell_type": "markdown",
      "metadata": {
        "id": "view-in-github",
        "colab_type": "text"
      },
      "source": [
        "<a href=\"https://colab.research.google.com/github/dhcent/MAB/blob/main/MAB_Colab.ipynb\" target=\"_parent\"><img src=\"https://colab.research.google.com/assets/colab-badge.svg\" alt=\"Open In Colab\"/></a>"
      ]
    },
    {
      "cell_type": "markdown",
      "source": [
        "First, import all the libraries (from other folders)"
      ],
      "metadata": {
        "id": "lL_HJ9sWZXlJ"
      }
    },
    {
      "cell_type": "code",
      "source": [
        "from Algorithms.Epsilon_Greedy import EpsilonGreedy\n",
        "from Arms.normal import NormalArm\n",
        "from Algorithms.Oracle import Oracle\n",
        "from Algorithms.UCB1 import UCB1\n",
        "from Arms.gaussian import GaussianArm\n",
        "from Arms.brownian import BrownianArm\n",
        "from Plots.regret import plot_regret\n",
        "\n",
        "# from Arms.bernoulli import BernoulliArm\n",
        "import numpy as np\n",
        "import random as rand\n",
        "import matplotlib.pyplot as plt"
      ],
      "metadata": {
        "id": "PTSOjcVLZaTh"
      },
      "execution_count": 2,
      "outputs": []
    },
    {
      "cell_type": "markdown",
      "source": [
        "Next, we want to define the function to run the algorithm. This function takes in a specified algorithm as well as a time horizon."
      ],
      "metadata": {
        "id": "2fTNgmWDZfD_"
      }
    },
    {
      "cell_type": "code",
      "source": [
        "# horizon is total # of steps\n",
        "def run_algorithm(algorithm, horizon):\n",
        "    total_reward = 0\n",
        "    oracle_total_reward = 0\n",
        "    cumulative_rewards = [0] * len(arms)\n",
        "    oracle = Oracle(arms)\n",
        "    algorithm.reinitialize(n_arms=len(arms))\n",
        "    # create a matrix of nxm\n",
        "    # n - # of arms\n",
        "    # m - # of steps (measures each mean at each step, used for plotting later)\n",
        "    mean_history = [[] for i in range(len(arms))]\n",
        "    regret_history = []\n",
        "\n",
        "    for t in range (horizon):\n",
        "        #chosen arm is index\n",
        "        chosen_arm = algorithm.select_arm()\n",
        "        reward = arms[chosen_arm].draw()\n",
        "        total_reward += reward\n",
        "\n",
        "        #oracle action\n",
        "        oracle_chosen_arm = oracle.select_arm()\n",
        "        oracle_reward = arms[oracle_chosen_arm].draw()\n",
        "        oracle_total_reward += oracle_reward\n",
        "        algorithm.update(chosen_arm, reward)\n",
        "\n",
        "        #used for plotting regret\n",
        "        if t == 0:\n",
        "            regret_history.append(oracle_reward - reward)\n",
        "        else:\n",
        "            regret_history.append(oracle_reward - reward + regret_history[t - 1])\n",
        "        cumulative_rewards[chosen_arm] += reward\n",
        "    #plot regret vs rounds\n",
        "    plot_regret(regret_history)\n",
        "    return cumulative_rewards"
      ],
      "metadata": {
        "id": "gHP8EYlHZlgW"
      },
      "execution_count": null,
      "outputs": []
    },
    {
      "cell_type": "markdown",
      "source": [
        "Now, we define an array of arms. These are the arms are algorithm will pick from. We also will generate the arms depending on the type (can be changed so that they are not all the same type)."
      ],
      "metadata": {
        "id": "kOdY2_EtZxse"
      }
    },
    {
      "cell_type": "code",
      "source": [
        "arms = []\n",
        "\n",
        "#n - num of arms\n",
        "n = 5\n",
        "\n",
        "#generate each arm based on Arm Type and n # of arms\n",
        "expected_vals = [rand.random() for i in range(n)]\n",
        "for val in expected_vals:\n",
        "    arms.append(GaussianArm(val))"
      ],
      "metadata": {
        "id": "SlyN8YPfZ7y0"
      },
      "execution_count": 3,
      "outputs": []
    },
    {
      "cell_type": "markdown",
      "source": [
        "Something to note is that for certain algorithms, (for example, epsilon greedy), you need to define different paramters. For all algorithms, you need to define the number of arms (n)"
      ],
      "metadata": {
        "id": "LDiX8m0TZ_c2"
      }
    },
    {
      "cell_type": "code",
      "source": [
        "arms = []\n",
        "\n",
        "#n - num of arms\n",
        "n = 5\n",
        "\n",
        "#generate each arm based on Arm Type and n # of arms\n",
        "expected_vals = [rand.random() for i in range(n)]\n",
        "for val in expected_vals:\n",
        "    arms.append(GaussianArm(val))"
      ],
      "metadata": {
        "id": "MgKAqu1IaI5n"
      },
      "execution_count": 4,
      "outputs": []
    }
  ]
}